{
 "cells": [
  {
   "cell_type": "code",
   "execution_count": null,
   "id": "c9f0ec3e-13ed-4d4c-baa9-df4d1b7e960f",
   "metadata": {},
   "outputs": [],
   "source": [
    "print(\"Hi\")"
   ]
  },
  {
   "cell_type": "code",
   "execution_count": 1,
   "id": "e5070c66-c4d3-4151-b1a7-1c60a9eeb78e",
   "metadata": {},
   "outputs": [
    {
     "name": "stdout",
     "output_type": "stream",
     "text": [
      "Hi Hello\n"
     ]
    }
   ],
   "source": [
    "print(\"Hi Hello\")"
   ]
  },
  {
   "cell_type": "code",
   "execution_count": null,
   "id": "8a798387-31a3-45fd-a849-18cc4b19db83",
   "metadata": {},
   "outputs": [],
   "source": []
  }
 ],
 "metadata": {
  "kernelspec": {
   "display_name": "Python 3",
   "language": "python",
   "name": "python3"
  },
  "language_info": {
   "codemirror_mode": {
    "name": "ipython",
    "version": 3
   },
   "file_extension": ".py",
   "mimetype": "text/x-python",
   "name": "python",
   "nbconvert_exporter": "python",
   "pygments_lexer": "ipython3",
   "version": "3.8.8"
  }
 },
 "nbformat": 4,
 "nbformat_minor": 5
}
